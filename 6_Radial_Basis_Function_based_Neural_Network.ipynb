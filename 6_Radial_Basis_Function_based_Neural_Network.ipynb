{
  "cells": [
    {
      "cell_type": "code",
      "execution_count": 1,
      "metadata": {
        "id": "JkrsYxOoeoZo"
      },
      "outputs": [],
      "source": [
        "import pandas as pd\n",
        "import numpy as np\n",
        "from sklearn.metrics.pairwise import euclidean_distances\n",
        "from sklearn.preprocessing import OneHotEncoder\n",
        "from sklearn.metrics import accuracy_score\n",
        "from sklearn.datasets import load_iris\n",
        "from sklearn.model_selection import train_test_split\n",
        "from sklearn.linear_model import LogisticRegression\n",
        "from sklearn.tree import DecisionTreeRegressor\n",
        "from sklearn.tree import DecisionTreeClassifier\n",
        "from sklearn.svm import SVC\n",
        "from sklearn.metrics import accuracy_score, precision_score, recall_score, f1_score\n",
        "from sklearn.linear_model import LinearRegression\n",
        "from sklearn.ensemble import RandomForestRegressor\n",
        "from sklearn.metrics import mean_squared_error, r2_score\n",
        "from sklearn.metrics import accuracy_score, precision_score, recall_score, f1_score"
      ]
    },
    {
      "cell_type": "code",
      "execution_count": 2,
      "metadata": {
        "id": "8sCjXQ5Ja1Fj"
      },
      "outputs": [],
      "source": [
        "# @title RBF based Neural Network for Classification\n",
        "iris = load_iris()\n",
        "X_cls = iris.data\n",
        "y_cls = iris.target"
      ]
    },
    {
      "cell_type": "code",
      "execution_count": 3,
      "metadata": {
        "id": "FszNOxMYQs-B"
      },
      "outputs": [],
      "source": [
        "X_train_cls, X_test_cls, y_train_cls, y_test_cls = train_test_split(X_cls, y_cls, test_size=0.2, random_state=42)"
      ]
    },
    {
      "cell_type": "code",
      "execution_count": 4,
      "metadata": {
        "id": "hnqUG4-2fX4V"
      },
      "outputs": [],
      "source": [
        "class RBFNClassifier:\n",
        "    def __init__(self, num_centers, gamma=1.0, random_state=None):\n",
        "        self.num_centers = num_centers\n",
        "        self.gamma = gamma\n",
        "        self.random_state = random_state\n",
        "        self.centers = None\n",
        "        self.weights = None\n",
        "        self.encoder = OneHotEncoder()\n",
        "\n",
        "    def _gaussian(self, X, centers):\n",
        "        return np.exp(-self.gamma * euclidean_distances(X, centers) ** 2)\n",
        "\n",
        "    def fit(self, X, y):\n",
        "        rng = np.random.RandomState(self.random_state)\n",
        "        self.centers = rng.permutation(X)[:self.num_centers]\n",
        "        X_transformed = self._gaussian(X, self.centers)\n",
        "        self.encoder.fit(y.reshape(-1, 1))\n",
        "        y_encoded = self.encoder.transform(y.reshape(-1, 1)).toarray()\n",
        "        self.weights = np.linalg.pinv(X_transformed) @ y_encoded\n",
        "\n",
        "    def predict(self, X):\n",
        "        X_transformed = self._gaussian(X, self.centers)\n",
        "        preds = X_transformed @ self.weights\n",
        "        return self.encoder.inverse_transform(preds)"
      ]
    },
    {
      "cell_type": "code",
      "execution_count": 5,
      "metadata": {
        "id": "5opmC7uexpIQ"
      },
      "outputs": [],
      "source": [
        "def evaluate_classification_model(y_true, y_pred):\n",
        "    accuracy = accuracy_score(y_true, y_pred)\n",
        "    precision = precision_score(y_true, y_pred, average='macro')\n",
        "    recall = recall_score(y_true, y_pred, average='macro')\n",
        "    f1 = f1_score(y_true, y_pred, average='macro')\n",
        "    return accuracy, precision, recall, f1"
      ]
    },
    {
      "cell_type": "code",
      "execution_count": 6,
      "metadata": {
        "id": "boJNq4CGfdSk"
      },
      "outputs": [],
      "source": [
        "# Radial Basis Function\n",
        "rbfn_classifier = RBFNClassifier(num_centers=10, gamma=0.1, random_state=42)\n",
        "rbfn_classifier.fit(X_train_cls, y_train_cls)\n",
        "rbfn_preds = rbfn_classifier.predict(X_test_cls)\n",
        "rbfn_metrics = evaluate_classification_model(y_test_cls, rbfn_preds)"
      ]
    },
    {
      "cell_type": "code",
      "execution_count": 7,
      "metadata": {
        "id": "W2wpK6gGa18-",
        "colab": {
          "base_uri": "https://localhost:8080/"
        },
        "outputId": "b9164513-fb45-4e78-a22e-fbae9ba73765"
      },
      "outputs": [
        {
          "output_type": "stream",
          "name": "stderr",
          "text": [
            "/usr/local/lib/python3.10/dist-packages/sklearn/linear_model/_logistic.py:458: ConvergenceWarning: lbfgs failed to converge (status=1):\n",
            "STOP: TOTAL NO. of ITERATIONS REACHED LIMIT.\n",
            "\n",
            "Increase the number of iterations (max_iter) or scale the data as shown in:\n",
            "    https://scikit-learn.org/stable/modules/preprocessing.html\n",
            "Please also refer to the documentation for alternative solver options:\n",
            "    https://scikit-learn.org/stable/modules/linear_model.html#logistic-regression\n",
            "  n_iter_i = _check_optimize_result(\n"
          ]
        }
      ],
      "source": [
        "# Logistic Regression\n",
        "log_reg = LogisticRegression()\n",
        "log_reg.fit(X_train_cls, y_train_cls)\n",
        "log_reg_preds = log_reg.predict(X_test_cls)\n",
        "log_reg_metrics = evaluate_classification_model(y_test_cls, log_reg_preds)"
      ]
    },
    {
      "cell_type": "code",
      "execution_count": 8,
      "metadata": {
        "id": "tWfb46LKbTBP"
      },
      "outputs": [],
      "source": [
        "# Decision Trees\n",
        "dt_classifier = DecisionTreeClassifier()\n",
        "dt_classifier.fit(X_train_cls, y_train_cls)\n",
        "dt_preds = dt_classifier.predict(X_test_cls)\n",
        "dt_metrics = evaluate_classification_model(y_test_cls, dt_preds)"
      ]
    },
    {
      "cell_type": "code",
      "execution_count": 9,
      "metadata": {
        "id": "v05sRqPXbVe2"
      },
      "outputs": [],
      "source": [
        "# Support Vector Machines (SVMs)\n",
        "svm_classifier = SVC()\n",
        "svm_classifier.fit(X_train_cls, y_train_cls)\n",
        "svm_preds = svm_classifier.predict(X_test_cls)\n",
        "svm_metrics = evaluate_classification_model(y_test_cls, svm_preds)"
      ]
    },
    {
      "cell_type": "code",
      "execution_count": 10,
      "metadata": {
        "id": "1TqL3NHcf4_h",
        "colab": {
          "base_uri": "https://localhost:8080/"
        },
        "outputId": "d6baec6c-2eab-4da1-9d5b-992b00630aa7"
      },
      "outputs": [
        {
          "output_type": "stream",
          "name": "stdout",
          "text": [
            "Logistic Regression Accuracy: (1.0, 1.0, 1.0, 1.0)\n",
            "Decision Trees Accuracy: (1.0, 1.0, 1.0, 1.0)\n",
            "SVM Accuracy: (1.0, 1.0, 1.0, 1.0)\n",
            "RBFN Accuracy: (1.0, 1.0, 1.0, 1.0)\n"
          ]
        }
      ],
      "source": [
        "# Print the accuracies of each model\n",
        "print(\"Logistic Regression Accuracy:\", log_reg_metrics)\n",
        "print(\"Decision Trees Accuracy:\", dt_metrics)\n",
        "print(\"SVM Accuracy:\", svm_metrics)\n",
        "print(\"RBFN Accuracy:\", rbfn_metrics)"
      ]
    },
    {
      "cell_type": "code",
      "execution_count": 11,
      "metadata": {
        "id": "vslRbnkrbcUr"
      },
      "outputs": [],
      "source": [
        "# @title RBF based Neural Network for Regression\n",
        "# Load the Boston housing dataset from the original source\n",
        "data_url = \"http://lib.stat.cmu.edu/datasets/boston\"\n",
        "raw_df = pd.read_csv(data_url, sep=\"\\s+\", skiprows=22, header=None)"
      ]
    },
    {
      "cell_type": "code",
      "execution_count": 12,
      "metadata": {
        "id": "sMdsyC_AiHED"
      },
      "outputs": [],
      "source": [
        "# Extract features and target from the raw data\n",
        "X_reg = np.hstack([raw_df.values[::2, :], raw_df.values[1::2, :2]])\n",
        "y_reg = raw_df.values[1::2, 2]"
      ]
    },
    {
      "cell_type": "code",
      "execution_count": 13,
      "metadata": {
        "colab": {
          "base_uri": "https://localhost:8080/"
        },
        "id": "rbcpNjbPhmhz",
        "outputId": "76efb089-2fcf-4cea-d87a-5a336ee11168"
      },
      "outputs": [
        {
          "output_type": "stream",
          "name": "stdout",
          "text": [
            "(506, 13) (506,)\n"
          ]
        }
      ],
      "source": [
        "print(X_reg.shape, y_reg.shape)"
      ]
    },
    {
      "cell_type": "code",
      "execution_count": 14,
      "metadata": {
        "id": "36lLIqmzhKrb"
      },
      "outputs": [],
      "source": [
        "X_train_reg, X_test_reg, y_train_reg, y_test_reg = train_test_split(X_reg, y_reg, test_size=0.2, random_state=42)"
      ]
    },
    {
      "cell_type": "code",
      "execution_count": 15,
      "metadata": {
        "id": "UA451C5ciPjD"
      },
      "outputs": [],
      "source": [
        "class RBFNRegressor:\n",
        "    def __init__(self, num_centers, gamma=1.0, random_state=None):\n",
        "        self.num_centers = num_centers\n",
        "        self.gamma = gamma\n",
        "        self.random_state = random_state\n",
        "        self.centers = None\n",
        "        self.weights = None\n",
        "\n",
        "    def _gaussian(self, X, centers):\n",
        "        return np.exp(-self.gamma * euclidean_distances(X, centers) ** 2)\n",
        "\n",
        "    def fit(self, X, y):\n",
        "        rng = np.random.RandomState(self.random_state)\n",
        "        self.centers = rng.permutation(X)[:self.num_centers]\n",
        "        X_transformed = self._gaussian(X, self.centers)\n",
        "        self.weights = np.linalg.pinv(X_transformed) @ y\n",
        "\n",
        "    def predict(self, X):\n",
        "        X_transformed = self._gaussian(X, self.centers)\n",
        "        return X_transformed @ self.weights\n",
        "\n",
        "def evaluate_regression_model(y_true, y_pred):\n",
        "    mse = mean_squared_error(y_true, y_pred)\n",
        "    rmse = mean_squared_error(y_true, y_pred, squared=False)\n",
        "    r2 = r2_score(y_true, y_pred)\n",
        "    return mse, rmse, r2"
      ]
    },
    {
      "cell_type": "code",
      "execution_count": 16,
      "metadata": {
        "id": "fA1YBjkTjKbo"
      },
      "outputs": [],
      "source": [
        "# Radial Basis Function\n",
        "rbfn_regressor = RBFNRegressor(num_centers=10, gamma=0.1, random_state=42)\n",
        "rbfn_regressor.fit(X_train_reg, y_train_reg)\n",
        "rbfn_preds = rbfn_regressor.predict(X_test_reg)\n",
        "rbfn_metrics = evaluate_regression_model(y_test_reg, rbfn_preds)"
      ]
    },
    {
      "cell_type": "code",
      "execution_count": 17,
      "metadata": {
        "id": "2t_36hPri2eU"
      },
      "outputs": [],
      "source": [
        "# Linear Regression\n",
        "lin_reg = LinearRegression()\n",
        "lin_reg.fit(X_train_reg, y_train_reg)\n",
        "lin_reg_preds = lin_reg.predict(X_test_reg)\n",
        "lin_reg_metrics = evaluate_regression_model(y_test_reg, lin_reg_preds)"
      ]
    },
    {
      "cell_type": "code",
      "execution_count": 18,
      "metadata": {
        "id": "QGyzncAAi7IS"
      },
      "outputs": [],
      "source": [
        "# Decision Tree\n",
        "dt_regressor = DecisionTreeRegressor()\n",
        "dt_regressor.fit(X_train_reg, y_train_reg)\n",
        "dt_preds = dt_regressor.predict(X_test_reg)\n",
        "dt_metrics = evaluate_regression_model(y_test_reg, dt_preds)"
      ]
    },
    {
      "cell_type": "code",
      "execution_count": 19,
      "metadata": {
        "id": "BD4poc8qjBgj"
      },
      "outputs": [],
      "source": [
        "# Random Forests\n",
        "rf_regressor = RandomForestRegressor()\n",
        "rf_regressor.fit(X_train_reg, y_train_reg)\n",
        "rf_preds = rf_regressor.predict(X_test_reg)\n",
        "rf_metrics = evaluate_regression_model(y_test_reg, rf_preds)"
      ]
    },
    {
      "cell_type": "code",
      "execution_count": 20,
      "metadata": {
        "colab": {
          "base_uri": "https://localhost:8080/"
        },
        "id": "Yh-2nrCejGgE",
        "outputId": "da4c114e-48d0-4be6-c991-11eabbdbfe86"
      },
      "outputs": [
        {
          "output_type": "stream",
          "name": "stdout",
          "text": [
            "Linear Regression Metrics: (24.291119474973485, 4.928602182665333, 0.6687594935356325)\n",
            "Random Forest Metrics: (8.553326441176472, 2.924607057567986, 0.8833644457905967)\n",
            "Decision Tree Metrics: (9.721764705882354, 3.117974455617357, 0.8674312944604461)\n",
            "RBFN Metrics: (528.723345434056, 22.99398498377469, -6.209819576308458)\n"
          ]
        }
      ],
      "source": [
        "print(\"Linear Regression Metrics:\", lin_reg_metrics)\n",
        "print(\"Random Forest Metrics:\", rf_metrics)\n",
        "print(\"Decision Tree Metrics:\", dt_metrics)\n",
        "print(\"RBFN Metrics:\", rbfn_metrics)"
      ]
    },
    {
      "cell_type": "code",
      "execution_count": 20,
      "metadata": {
        "id": "WTn1Umh4kIH9"
      },
      "outputs": [],
      "source": []
    }
  ],
  "metadata": {
    "colab": {
      "provenance": []
    },
    "kernelspec": {
      "display_name": "Python 3",
      "name": "python3"
    },
    "language_info": {
      "name": "python"
    }
  },
  "nbformat": 4,
  "nbformat_minor": 0
}