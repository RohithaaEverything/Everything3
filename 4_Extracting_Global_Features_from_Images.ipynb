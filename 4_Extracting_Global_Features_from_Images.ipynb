{
  "cells": [
    {
      "cell_type": "code",
      "execution_count": null,
      "metadata": {
        "id": "ZF_hyib2P7hP"
      },
      "outputs": [],
      "source": [
        "import tensorflow as tf\n",
        "import cv2\n",
        "from skimage.feature import hog, local_binary_pattern\n",
        "from skimage import exposure\n",
        "import numpy as np\n",
        "from skimage.transform import resize\n",
        "from sklearn.decomposition import PCA\n",
        "from sklearn.svm import SVC\n",
        "from sklearn.ensemble import RandomForestClassifier\n",
        "from sklearn.neighbors import KNeighborsClassifier\n",
        "from sklearn.tree import DecisionTreeClassifier\n",
        "from sklearn.naive_bayes import GaussianNB\n",
        "from sklearn.model_selection import train_test_split\n",
        "from sklearn.metrics import accuracy_score\n",
        "from sklearn.metrics import classification_report\n",
        "from sklearn.model_selection import cross_val_score"
      ]
    },
    {
      "cell_type": "code",
      "execution_count": null,
      "metadata": {
        "colab": {
          "base_uri": "https://localhost:8080/"
        },
        "id": "vUhNhWNa2unb",
        "outputId": "8f3ab7cf-9e89-4acc-b1dc-a621bb535849"
      },
      "outputs": [
        {
          "output_type": "stream",
          "name": "stdout",
          "text": [
            "Downloading data from https://storage.googleapis.com/tensorflow/tf-keras-datasets/mnist.npz\n",
            "11490434/11490434 [==============================] - 1s 0us/step\n"
          ]
        }
      ],
      "source": [
        "# Load MNIST dataset\n",
        "mnist = tf.keras.datasets.mnist\n",
        "(x_train, y_train), (x_test, y_test) = mnist.load_data()"
      ]
    },
    {
      "cell_type": "code",
      "execution_count": null,
      "metadata": {
        "id": "cH3pJqBDthdj"
      },
      "outputs": [],
      "source": [
        "def extract_hog_features(images):\n",
        "    hog_features = []\n",
        "    for image in images:\n",
        "        fd, _ = hog(image, orientations=8, pixels_per_cell=(16, 16),\n",
        "                    cells_per_block=(1, 1), visualize=True, multichannel=False)\n",
        "        hog_features.append(fd)\n",
        "    return np.array(hog_features)"
      ]
    },
    {
      "cell_type": "code",
      "execution_count": null,
      "metadata": {
        "id": "i5fxVHk6udWa"
      },
      "outputs": [],
      "source": [
        "def extract_lbp_features(images):\n",
        "    lbp_features = []\n",
        "    for image in images:\n",
        "        lbp = local_binary_pattern(image, 8, 1, method='uniform')\n",
        "        (hist, _) = np.histogram(lbp.ravel(), bins=np.arange(0, 10), range=(0, 9))\n",
        "        hist = hist.astype(\"float\")\n",
        "        hist /= (hist.sum() + 1e-7)\n",
        "        lbp_features.append(hist)\n",
        "    return np.array(lbp_features)"
      ]
    },
    {
      "cell_type": "code",
      "execution_count": null,
      "metadata": {
        "colab": {
          "base_uri": "https://localhost:8080/"
        },
        "id": "oY4f4IPQug4e",
        "outputId": "6c93ad70-6768-484b-98c1-68ddd6292db9"
      },
      "outputs": [
        {
          "output_type": "stream",
          "name": "stderr",
          "text": [
            "<ipython-input-3-772185695394>:4: FutureWarning: `multichannel` is a deprecated argument name for `hog`. It will be removed in version 1.0. Please use `channel_axis` instead.\n",
            "  fd, _ = hog(image, orientations=8, pixels_per_cell=(16, 16),\n"
          ]
        }
      ],
      "source": [
        "# Apply feature extraction methods\n",
        "x_train_hog = extract_hog_features(x_train)\n",
        "x_train_lbp = extract_lbp_features(x_train)"
      ]
    },
    {
      "cell_type": "code",
      "execution_count": null,
      "metadata": {
        "colab": {
          "base_uri": "https://localhost:8080/"
        },
        "id": "XIhTKmAYuibr",
        "outputId": "5394945a-e13a-40d6-b108-479629ef29b0"
      },
      "outputs": [
        {
          "output_type": "stream",
          "name": "stdout",
          "text": [
            "HoG features shape: (60000, 8)\n",
            "LBP features shape: (60000, 9)\n"
          ]
        }
      ],
      "source": [
        "# Print shapes of extracted features\n",
        "print(\"HoG features shape:\", x_train_hog.shape)\n",
        "print(\"LBP features shape:\", x_train_lbp.shape)"
      ]
    },
    {
      "cell_type": "code",
      "execution_count": null,
      "metadata": {
        "id": "ET6au0L9wH8n"
      },
      "outputs": [],
      "source": [
        "# Concatenate extracted features\n",
        "x_train_features = np.concatenate((x_train_hog, x_train_lbp), axis=1)\n",
        "\n",
        "# Split data into training and testing sets\n",
        "x_train_features, x_val_features, y_train, y_val = train_test_split(x_train_features, y_train, test_size=0.2, random_state=42)"
      ]
    },
    {
      "cell_type": "code",
      "execution_count": null,
      "metadata": {
        "id": "wHNql45Zwk8Z"
      },
      "outputs": [],
      "source": [
        "# Initialize models\n",
        "svm_model = SVC()\n",
        "rf_model = RandomForestClassifier()\n",
        "knn_model = KNeighborsClassifier()\n",
        "dt_model = DecisionTreeClassifier()\n",
        "nb_model = GaussianNB()"
      ]
    },
    {
      "cell_type": "code",
      "execution_count": null,
      "metadata": {
        "colab": {
          "base_uri": "https://localhost:8080/",
          "height": 74
        },
        "id": "RGujILmGwr74",
        "outputId": "834f1f16-0ac6-4293-f303-3a7e074e1899"
      },
      "outputs": [
        {
          "output_type": "execute_result",
          "data": {
            "text/plain": [
              "GaussianNB()"
            ],
            "text/html": [
              "<style>#sk-container-id-1 {color: black;background-color: white;}#sk-container-id-1 pre{padding: 0;}#sk-container-id-1 div.sk-toggleable {background-color: white;}#sk-container-id-1 label.sk-toggleable__label {cursor: pointer;display: block;width: 100%;margin-bottom: 0;padding: 0.3em;box-sizing: border-box;text-align: center;}#sk-container-id-1 label.sk-toggleable__label-arrow:before {content: \"▸\";float: left;margin-right: 0.25em;color: #696969;}#sk-container-id-1 label.sk-toggleable__label-arrow:hover:before {color: black;}#sk-container-id-1 div.sk-estimator:hover label.sk-toggleable__label-arrow:before {color: black;}#sk-container-id-1 div.sk-toggleable__content {max-height: 0;max-width: 0;overflow: hidden;text-align: left;background-color: #f0f8ff;}#sk-container-id-1 div.sk-toggleable__content pre {margin: 0.2em;color: black;border-radius: 0.25em;background-color: #f0f8ff;}#sk-container-id-1 input.sk-toggleable__control:checked~div.sk-toggleable__content {max-height: 200px;max-width: 100%;overflow: auto;}#sk-container-id-1 input.sk-toggleable__control:checked~label.sk-toggleable__label-arrow:before {content: \"▾\";}#sk-container-id-1 div.sk-estimator input.sk-toggleable__control:checked~label.sk-toggleable__label {background-color: #d4ebff;}#sk-container-id-1 div.sk-label input.sk-toggleable__control:checked~label.sk-toggleable__label {background-color: #d4ebff;}#sk-container-id-1 input.sk-hidden--visually {border: 0;clip: rect(1px 1px 1px 1px);clip: rect(1px, 1px, 1px, 1px);height: 1px;margin: -1px;overflow: hidden;padding: 0;position: absolute;width: 1px;}#sk-container-id-1 div.sk-estimator {font-family: monospace;background-color: #f0f8ff;border: 1px dotted black;border-radius: 0.25em;box-sizing: border-box;margin-bottom: 0.5em;}#sk-container-id-1 div.sk-estimator:hover {background-color: #d4ebff;}#sk-container-id-1 div.sk-parallel-item::after {content: \"\";width: 100%;border-bottom: 1px solid gray;flex-grow: 1;}#sk-container-id-1 div.sk-label:hover label.sk-toggleable__label {background-color: #d4ebff;}#sk-container-id-1 div.sk-serial::before {content: \"\";position: absolute;border-left: 1px solid gray;box-sizing: border-box;top: 0;bottom: 0;left: 50%;z-index: 0;}#sk-container-id-1 div.sk-serial {display: flex;flex-direction: column;align-items: center;background-color: white;padding-right: 0.2em;padding-left: 0.2em;position: relative;}#sk-container-id-1 div.sk-item {position: relative;z-index: 1;}#sk-container-id-1 div.sk-parallel {display: flex;align-items: stretch;justify-content: center;background-color: white;position: relative;}#sk-container-id-1 div.sk-item::before, #sk-container-id-1 div.sk-parallel-item::before {content: \"\";position: absolute;border-left: 1px solid gray;box-sizing: border-box;top: 0;bottom: 0;left: 50%;z-index: -1;}#sk-container-id-1 div.sk-parallel-item {display: flex;flex-direction: column;z-index: 1;position: relative;background-color: white;}#sk-container-id-1 div.sk-parallel-item:first-child::after {align-self: flex-end;width: 50%;}#sk-container-id-1 div.sk-parallel-item:last-child::after {align-self: flex-start;width: 50%;}#sk-container-id-1 div.sk-parallel-item:only-child::after {width: 0;}#sk-container-id-1 div.sk-dashed-wrapped {border: 1px dashed gray;margin: 0 0.4em 0.5em 0.4em;box-sizing: border-box;padding-bottom: 0.4em;background-color: white;}#sk-container-id-1 div.sk-label label {font-family: monospace;font-weight: bold;display: inline-block;line-height: 1.2em;}#sk-container-id-1 div.sk-label-container {text-align: center;}#sk-container-id-1 div.sk-container {/* jupyter's `normalize.less` sets `[hidden] { display: none; }` but bootstrap.min.css set `[hidden] { display: none !important; }` so we also need the `!important` here to be able to override the default hidden behavior on the sphinx rendered scikit-learn.org. See: https://github.com/scikit-learn/scikit-learn/issues/21755 */display: inline-block !important;position: relative;}#sk-container-id-1 div.sk-text-repr-fallback {display: none;}</style><div id=\"sk-container-id-1\" class=\"sk-top-container\"><div class=\"sk-text-repr-fallback\"><pre>GaussianNB()</pre><b>In a Jupyter environment, please rerun this cell to show the HTML representation or trust the notebook. <br />On GitHub, the HTML representation is unable to render, please try loading this page with nbviewer.org.</b></div><div class=\"sk-container\" hidden><div class=\"sk-item\"><div class=\"sk-estimator sk-toggleable\"><input class=\"sk-toggleable__control sk-hidden--visually\" id=\"sk-estimator-id-1\" type=\"checkbox\" checked><label for=\"sk-estimator-id-1\" class=\"sk-toggleable__label sk-toggleable__label-arrow\">GaussianNB</label><div class=\"sk-toggleable__content\"><pre>GaussianNB()</pre></div></div></div></div></div>"
            ]
          },
          "metadata": {},
          "execution_count": 9
        }
      ],
      "source": [
        "# Train models\n",
        "svm_model.fit(x_train_features, y_train)\n",
        "rf_model.fit(x_train_features, y_train)\n",
        "knn_model.fit(x_train_features, y_train)\n",
        "dt_model.fit(x_train_features, y_train)\n",
        "nb_model.fit(x_train_features, y_train)"
      ]
    },
    {
      "cell_type": "code",
      "execution_count": null,
      "metadata": {
        "id": "47NOxLkawtr_"
      },
      "outputs": [],
      "source": [
        "# Predict on validation set\n",
        "svm_preds = svm_model.predict(x_val_features)\n",
        "rf_preds = rf_model.predict(x_val_features)\n",
        "knn_preds = knn_model.predict(x_val_features)\n",
        "dt_preds = dt_model.predict(x_val_features)\n",
        "nb_preds = nb_model.predict(x_val_features)"
      ]
    },
    {
      "cell_type": "code",
      "execution_count": null,
      "metadata": {
        "id": "5ISKWIYbwyS9"
      },
      "outputs": [],
      "source": [
        "# Calculate accuracy\n",
        "svm_accuracy = accuracy_score(y_val, svm_preds)\n",
        "rf_accuracy = accuracy_score(y_val, rf_preds)\n",
        "knn_accuracy = accuracy_score(y_val, knn_preds)\n",
        "dt_accuracy = accuracy_score(y_val, dt_preds)\n",
        "nb_accuracy = accuracy_score(y_val, nb_preds)"
      ]
    },
    {
      "cell_type": "code",
      "execution_count": null,
      "metadata": {
        "colab": {
          "base_uri": "https://localhost:8080/"
        },
        "id": "3fpJGhIZw0BU",
        "outputId": "f779d3b6-2d6a-4701-db98-e4845f154e23"
      },
      "outputs": [
        {
          "output_type": "stream",
          "name": "stdout",
          "text": [
            "Support Vector Machine Accuracy: 0.5656666666666667\n",
            "Random Forest Accuracy: 0.6225833333333334\n",
            "K-Nearest Neighbors Accuracy: 0.4796666666666667\n",
            "Decision Tree Accuracy: 0.48383333333333334\n",
            "Gaussian Naive Bayes Accuracy: 0.5165833333333333\n"
          ]
        }
      ],
      "source": [
        "# Print accuracy\n",
        "print(\"Support Vector Machine Accuracy:\", svm_accuracy)\n",
        "print(\"Random Forest Accuracy:\", rf_accuracy)\n",
        "print(\"K-Nearest Neighbors Accuracy:\", knn_accuracy)\n",
        "print(\"Decision Tree Accuracy:\", dt_accuracy)\n",
        "print(\"Gaussian Naive Bayes Accuracy:\", nb_accuracy)"
      ]
    },
    {
      "cell_type": "code",
      "execution_count": null,
      "metadata": {
        "id": "HGKQpQ2pw2B2"
      },
      "outputs": [],
      "source": [
        "# Calculate evaluation metrics\n",
        "svm_report = classification_report(y_val, svm_preds)\n",
        "rf_report = classification_report(y_val, rf_preds)\n",
        "knn_report = classification_report(y_val, knn_preds)\n",
        "dt_report = classification_report(y_val, dt_preds)\n",
        "nb_report = classification_report(y_val, nb_preds)"
      ]
    },
    {
      "cell_type": "code",
      "execution_count": null,
      "metadata": {
        "colab": {
          "base_uri": "https://localhost:8080/"
        },
        "id": "tBJ6UmHaw-R-",
        "outputId": "4d5645b1-2eb7-4e82-dc14-d5836306f13f"
      },
      "outputs": [
        {
          "output_type": "stream",
          "name": "stdout",
          "text": [
            "Support Vector Machine Evaluation Report:\n",
            "              precision    recall  f1-score   support\n",
            "\n",
            "           0       0.63      0.65      0.64      1175\n",
            "           1       0.94      0.93      0.94      1322\n",
            "           2       0.46      0.38      0.41      1174\n",
            "           3       0.49      0.46      0.48      1219\n",
            "           4       0.49      0.43      0.46      1176\n",
            "           5       0.37      0.24      0.29      1104\n",
            "           6       0.62      0.66      0.64      1177\n",
            "           7       0.65      0.62      0.64      1299\n",
            "           8       0.55      0.69      0.61      1160\n",
            "           9       0.38      0.54      0.44      1194\n",
            "\n",
            "    accuracy                           0.57     12000\n",
            "   macro avg       0.56      0.56      0.55     12000\n",
            "weighted avg       0.57      0.57      0.56     12000\n",
            "\n",
            "\n",
            "Random Forest Evaluation Report:\n",
            "              precision    recall  f1-score   support\n",
            "\n",
            "           0       0.70      0.73      0.71      1175\n",
            "           1       0.96      0.96      0.96      1322\n",
            "           2       0.50      0.43      0.46      1174\n",
            "           3       0.51      0.52      0.52      1219\n",
            "           4       0.55      0.54      0.54      1176\n",
            "           5       0.42      0.34      0.38      1104\n",
            "           6       0.66      0.69      0.68      1177\n",
            "           7       0.68      0.70      0.69      1299\n",
            "           8       0.67      0.74      0.70      1160\n",
            "           9       0.47      0.50      0.48      1194\n",
            "\n",
            "    accuracy                           0.62     12000\n",
            "   macro avg       0.61      0.62      0.61     12000\n",
            "weighted avg       0.62      0.62      0.62     12000\n",
            "\n",
            "\n",
            "K-Nearest Neighbors Evaluation Report:\n",
            "              precision    recall  f1-score   support\n",
            "\n",
            "           0       0.50      0.61      0.55      1175\n",
            "           1       0.86      0.89      0.87      1322\n",
            "           2       0.33      0.40      0.36      1174\n",
            "           3       0.38      0.47      0.42      1219\n",
            "           4       0.39      0.38      0.38      1176\n",
            "           5       0.25      0.20      0.22      1104\n",
            "           6       0.58      0.52      0.55      1177\n",
            "           7       0.58      0.42      0.49      1299\n",
            "           8       0.54      0.57      0.55      1160\n",
            "           9       0.35      0.28      0.31      1194\n",
            "\n",
            "    accuracy                           0.48     12000\n",
            "   macro avg       0.47      0.47      0.47     12000\n",
            "weighted avg       0.48      0.48      0.48     12000\n",
            "\n",
            "\n",
            "Decision Tree Evaluation Report:\n",
            "              precision    recall  f1-score   support\n",
            "\n",
            "           0       0.57      0.58      0.58      1175\n",
            "           1       0.93      0.92      0.93      1322\n",
            "           2       0.31      0.33      0.32      1174\n",
            "           3       0.37      0.38      0.37      1219\n",
            "           4       0.37      0.37      0.37      1176\n",
            "           5       0.28      0.26      0.27      1104\n",
            "           6       0.55      0.53      0.54      1177\n",
            "           7       0.54      0.54      0.54      1299\n",
            "           8       0.54      0.54      0.54      1160\n",
            "           9       0.31      0.31      0.31      1194\n",
            "\n",
            "    accuracy                           0.48     12000\n",
            "   macro avg       0.48      0.48      0.48     12000\n",
            "weighted avg       0.48      0.48      0.48     12000\n",
            "\n",
            "\n",
            "Gaussian Naive Bayes Evaluation Report:\n",
            "              precision    recall  f1-score   support\n",
            "\n",
            "           0       0.58      0.58      0.58      1175\n",
            "           1       0.93      0.90      0.92      1322\n",
            "           2       0.40      0.32      0.36      1174\n",
            "           3       0.39      0.41      0.40      1219\n",
            "           4       0.48      0.40      0.43      1176\n",
            "           5       0.32      0.20      0.24      1104\n",
            "           6       0.54      0.63      0.58      1177\n",
            "           7       0.69      0.52      0.59      1299\n",
            "           8       0.59      0.62      0.60      1160\n",
            "           9       0.30      0.53      0.38      1194\n",
            "\n",
            "    accuracy                           0.52     12000\n",
            "   macro avg       0.52      0.51      0.51     12000\n",
            "weighted avg       0.53      0.52      0.52     12000\n",
            "\n"
          ]
        }
      ],
      "source": [
        "# Print evaluation metrics\n",
        "print(\"Support Vector Machine Evaluation Report:\")\n",
        "print(svm_report)\n",
        "print(\"\\nRandom Forest Evaluation Report:\")\n",
        "print(rf_report)\n",
        "print(\"\\nK-Nearest Neighbors Evaluation Report:\")\n",
        "print(knn_report)\n",
        "print(\"\\nDecision Tree Evaluation Report:\")\n",
        "print(dt_report)\n",
        "print(\"\\nGaussian Naive Bayes Evaluation Report:\")\n",
        "print(nb_report)"
      ]
    },
    {
      "cell_type": "code",
      "execution_count": null,
      "metadata": {
        "id": "Mxr4eiN7xA8N"
      },
      "outputs": [],
      "source": [
        "# Perform cross-validation\n",
        "svm_scores = cross_val_score(svm_model, x_train_features, y_train, cv=5)\n",
        "rf_scores = cross_val_score(rf_model, x_train_features, y_train, cv=5)\n",
        "knn_scores = cross_val_score(knn_model, x_train_features, y_train, cv=5)\n",
        "dt_scores = cross_val_score(dt_model, x_train_features, y_train, cv=5)\n",
        "nb_scores = cross_val_score(nb_model, x_train_features, y_train, cv=5)"
      ]
    },
    {
      "cell_type": "code",
      "execution_count": null,
      "metadata": {
        "colab": {
          "base_uri": "https://localhost:8080/"
        },
        "id": "uHohv2IkyMXX",
        "outputId": "cad7b3a5-0e1e-4f5f-98c6-05834839038f"
      },
      "outputs": [
        {
          "output_type": "stream",
          "name": "stdout",
          "text": [
            "Support Vector Machine Cross-Validation Scores: [0.5696875  0.56395833 0.56958333 0.5675     0.56489583]\n",
            "Random Forest Cross-Validation Scores: [0.63145833 0.62697917 0.63125    0.62989583 0.618125  ]\n",
            "K-Nearest Neighbors Cross-Validation Scores: [0.489375   0.48125    0.48895833 0.47666667 0.48072917]\n",
            "Decision Tree Cross-Validation Scores: [0.48125    0.49020833 0.48739583 0.48177083 0.4815625 ]\n",
            "Gaussian Naive Bayes Cross-Validation Scores: [0.52979167 0.51833333 0.52677083 0.52041667 0.5171875 ]\n"
          ]
        }
      ],
      "source": [
        "# Print cross-validation scores\n",
        "print(\"Support Vector Machine Cross-Validation Scores:\", svm_scores)\n",
        "print(\"Random Forest Cross-Validation Scores:\", rf_scores)\n",
        "print(\"K-Nearest Neighbors Cross-Validation Scores:\", knn_scores)\n",
        "print(\"Decision Tree Cross-Validation Scores:\", dt_scores)\n",
        "print(\"Gaussian Naive Bayes Cross-Validation Scores:\", nb_scores)"
      ]
    },
    {
      "cell_type": "code",
      "execution_count": null,
      "metadata": {
        "colab": {
          "base_uri": "https://localhost:8080/"
        },
        "id": "wsVAsxD4yOng",
        "outputId": "8133165a-785f-4a58-f901-4876a2b583a6"
      },
      "outputs": [
        {
          "output_type": "stream",
          "name": "stdout",
          "text": [
            "Mean Accuracy (SVM): 0.5671250000000001\n",
            "Standard Deviation of Accuracy (SVM): 0.002355733254565685\n",
            "\n",
            "Mean Accuracy (Random Forest): 0.6275416666666667\n",
            "Standard Deviation of Accuracy (Random Forest): 0.004972406498757793\n",
            "\n",
            "Mean Accuracy (K-Nearest Neighbors): 0.48339583333333336\n",
            "Standard Deviation of Accuracy (K-Nearest Neighbors): 0.0049737156354401875\n",
            "\n",
            "Mean Accuracy (Decision Tree): 0.48443749999999997\n",
            "Standard Deviation of Accuracy (Decision Tree): 0.003676714452696414\n",
            "\n",
            "Mean Accuracy (Gaussian Naive Bayes): 0.5225\n",
            "Standard Deviation of Accuracy (Gaussian Naive Bayes): 0.0049261032323283166\n"
          ]
        }
      ],
      "source": [
        "# Calculate mean and standard deviation of scores\n",
        "print(\"Mean Accuracy (SVM):\", svm_scores.mean())\n",
        "print(\"Standard Deviation of Accuracy (SVM):\", svm_scores.std())\n",
        "print(\"\\nMean Accuracy (Random Forest):\", rf_scores.mean())\n",
        "print(\"Standard Deviation of Accuracy (Random Forest):\", rf_scores.std())\n",
        "print(\"\\nMean Accuracy (K-Nearest Neighbors):\", knn_scores.mean())\n",
        "print(\"Standard Deviation of Accuracy (K-Nearest Neighbors):\", knn_scores.std())\n",
        "print(\"\\nMean Accuracy (Decision Tree):\", dt_scores.mean())\n",
        "print(\"Standard Deviation of Accuracy (Decision Tree):\", dt_scores.std())\n",
        "print(\"\\nMean Accuracy (Gaussian Naive Bayes):\", nb_scores.mean())\n",
        "print(\"Standard Deviation of Accuracy (Gaussian Naive Bayes):\", nb_scores.std())"
      ]
    },
    {
      "cell_type": "code",
      "source": [],
      "metadata": {
        "id": "jrV5ckpHvXGK"
      },
      "execution_count": null,
      "outputs": []
    }
  ],
  "metadata": {
    "colab": {
      "provenance": []
    },
    "kernelspec": {
      "display_name": "Python 3",
      "name": "python3"
    },
    "language_info": {
      "name": "python"
    }
  },
  "nbformat": 4,
  "nbformat_minor": 0
}